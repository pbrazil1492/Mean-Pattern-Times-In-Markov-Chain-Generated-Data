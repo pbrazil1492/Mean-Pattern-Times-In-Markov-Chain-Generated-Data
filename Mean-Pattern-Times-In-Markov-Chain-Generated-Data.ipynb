{
 "cells": [
  {
   "cell_type": "code",
   "execution_count": 5,
   "metadata": {
    "collapsed": true
   },
   "outputs": [],
   "source": [
    "import numpy as np"
   ]
  },
  {
   "cell_type": "markdown",
   "metadata": {},
   "source": [
    "Defining the Markov chain transition matrix; needs to be a n by n matrix (array) with all positive entries whose rows sum to one"
   ]
  },
  {
   "cell_type": "code",
   "execution_count": 6,
   "metadata": {},
   "outputs": [],
   "source": [
    "transitionMatrix = np.array([[.3, .5, .2], [.5, .3, .2], [.5, .2, .3]]);"
   ]
  },
  {
   "cell_type": "markdown",
   "metadata": {},
   "source": [
    "Here we defined a transition matrix which implicitly defines a Markov chain. The transition matrix is\n",
    "$$\\mathbb{P} = \\begin{pmatrix} \n",
    "          .3 & .5 & .2 \\\\\n",
    "          .5 & .3 & .2 \\\\\n",
    "          .5 & .2 & .3\n",
    "          \\end{pmatrix}\n",
    "          $$\n",
    "The $i^{th}$ row and $j^{th}$ column in this transition matrix, denoted $[\\mathbb{P}]_{i,j}$, represents the probability of transitioning from state $i$ to state $j$. For example $[\\mathbb{P}]_{0,1} = 0.5$ tells us there is a 50% chance of transitioning from state 0 to state 1"
   ]
  },
  {
   "cell_type": "code",
   "execution_count": 8,
   "metadata": {
    "collapsed": true
   },
   "outputs": [],
   "source": [
    "transitionMatrix = np.transpose(transitionMatrix)"
   ]
  },
  {
   "cell_type": "markdown",
   "metadata": {},
   "source": [
    "While the above notation is customary it does require state vectors, $\\alpha_{n}$, to be applied on the left-hand side. Since $Av=b$ is more common than $vA=b$ we shall solve this problem by transposing the matrix."
   ]
  },
  {
   "cell_type": "code",
   "execution_count": 9,
   "metadata": {
    "collapsed": true
   },
   "outputs": [],
   "source": [
    "numStates = len(transitionMatrix[0]);"
   ]
  },
  {
   "cell_type": "markdown",
   "metadata": {},
   "source": [
    "Here we define a variable named numStates. As the number suggest it contains the number of states in the Markov chain"
   ]
  },
  {
   "cell_type": "markdown",
   "metadata": {},
   "source": [
    "Our ultimate goal is to solve for $\\mathbb{E}[N(i_1, ..., i_n) | X_{0} = r]$. In persuit of that goal we need to find the long-run proportions for each state. Long-run proportions is the unique vector, $\\pi$, whose entries are all positive, sum to one and is the solution to $\\mathbb{P} \\pi = \\pi$, or simply, $(\\mathbb{P} - Id_{n}) \\pi = 0$ where $Id_{n}$ is the n by n identity matrix.\n"
   ]
  },
  {
   "cell_type": "code",
   "execution_count": 10,
   "metadata": {
    "collapsed": true
   },
   "outputs": [],
   "source": [
    "longrunMatrix = np.array(transitionMatrix, copy = True)\n",
    "identityMatrixNumStates = np.identity(numStates)\n",
    "\n",
    "longrunMatrix = longrunMatrix - identityMatrixNumStates"
   ]
  },
  {
   "cell_type": "markdown",
   "metadata": {},
   "source": [
    "Here we made a copy of the transition matrix (for reasons that are soon to follow), longrunMatrix, and assigned a variable, identityMatrixNumStates, to hold $Id_{n}$. Finally we assigned the variable longrunMatrix to $(\\mathbb{P} - Id_{n})$ as per the equation above. Our system of linear equations can be represented as\n",
    "$$\\begin{align}\n",
    "  \\pi_{0} &= P_{0,0} \\pi_{0} + ... + P_{n,0} \\pi_{n} \\\\\n",
    "  \\pi_{1} &= P_{0,1} \\pi_{0} + ... + P_{n,1} \\pi_{n} \\\\\n",
    "  &\\vdots\\\\\n",
    "  \\pi_{n} &= P_{0,n} \\pi_{0} + ... + P_{n,n} \\pi_{n}\n",
    "\\end{align}$$\n",
    "Adding the first n-1 equations to the last one yields\n",
    "$$\\begin{align}\n",
    "  \\pi_{0} &= P_{0,0} \\pi_{0} + ... + P_{n,0} \\pi_{n} \\\\\n",
    "  \\pi_{1} &= P_{0,1} \\pi_{0} + ... + P_{n,1} \\pi_{n} \\\\\n",
    "  &\\vdots\\\\\n",
    "  \\sum_{i=1}^{i=n} \\pi_{i} &= \\sum_{i=1}^{i=n} (P_{0,i}) \\pi_{0} + ... + (P_{n,i}) \\pi_{n}\n",
    "\\end{align}$$\n",
    "But since $\\sum_{i=1}^{i=n} P_{j,i} = 1$ for all j (from any state j you have to transition into one of the n states) this equation reduces further to\n",
    "$$\\begin{align}\n",
    "  \\pi_{0} &= P_{0,0} \\pi_{0} + ... + P_{n,0} \\pi_{n} \\\\\n",
    "  \\pi_{1} &= P_{0,1} \\pi_{0} + ... + P_{n,1} \\pi_{n} \\\\\n",
    "  &\\vdots\\\\\n",
    "  \\sum_{i=1}^{i=n} \\pi_{i} &= \\sum_{i=1}^{i=n} \\pi_{i} \\implies 0 = 0\n",
    "\\end{align}$$\n",
    "This equation is useless. Thus we have n variables and n-1 equations. We cannot hope to have a unique solution in this underconstrained situation. Luckily we have the added equation\n",
    "$$\\sum_{i=1}^{i=n} \\pi_{i} = 1$$\n",
    "Thus we must alter one row of the matrix $(\\mathbb{P} - Id_{n})$ and the corresponding entry of the solution vector to represent this equation. This can be done by replacing a row with all 1s and the corresponding entry with a 1."
   ]
  },
  {
   "cell_type": "code",
   "execution_count": 11,
   "metadata": {
    "collapsed": true
   },
   "outputs": [],
   "source": [
    "equationSwap = np.full(shape = numStates, fill_value = 1)\n",
    "longrunMatrix[numStates-1] = equationSwap"
   ]
  },
  {
   "cell_type": "code",
   "execution_count": 12,
   "metadata": {
    "collapsed": true
   },
   "outputs": [],
   "source": [
    "solutionVec = equationSwap - equationSwap\n",
    "solutionVec[numStates-1] = 1"
   ]
  },
  {
   "cell_type": "markdown",
   "metadata": {},
   "source": [
    "Here the variable equationSwap is our vector of all 1s. It replaces the last row of longrunMatrix and is the reason we made a copy of the variable transitionMatrix (we do not wish to mutate this variable). The variable solutionVec is, as the name suggest, the vector we will solve for. With our equations in place all we have to do is linearly solve for the vector $\\pi$"
   ]
  },
  {
   "cell_type": "code",
   "execution_count": 13,
   "metadata": {
    "collapsed": true
   },
   "outputs": [],
   "source": [
    "longrunVec = np.linalg.solve(longrunMatrix, solutionVec)"
   ]
  },
  {
   "cell_type": "markdown",
   "metadata": {},
   "source": [
    "With our $\\pi$ vector found we can move on to the next piece of the puzzle. Our next goal is to find the value of $\\mu(i,j)$, the mean time spent waiting to visit state $j$ given you start in state $i$. I shall refer to the matrix filled with the entries $\\mu(i,j)$ as $\\mu$ and the individual entries as $\\mu_{i,j}$. These values can be solved for with the system of equations\n",
    "$$\\mu_{i,j} = 1 + \\sum_{i=1; i \\neq j}^{i=n} P_{i,k} \\mu_{k,j}$$\n",
    "or equivalently ,\n",
    "$$\\begin{align}\n",
    "  1 &= (1 - P_{0,0})  \\mu_{0,j} - P_{0,1} \\mu_{1,j} - \\dotsc - (0) \\mu_{j,j} - \\dotsc - P_{0,n} \\mu_{n,j} \\\\\n",
    "  1 &= -P_{1,0} \\mu_{0,j} + (1 - P_{1,1}) \\mu_{1,j} - \\dotsc - (0) \\mu_{j,j} - \\dotsc - P_{1,n} \\mu_{n,j} \\\\\n",
    "  &\\vdots\\\\\n",
    "  1 &= -P_{n,0} \\mu_{0,j} - P_{n,1} \\mu_{1,j} - \\dotsc - (0) \\mu_{j,j} - \\dotsc - (1 - P_{n,n}) \\mu_{n,j}\n",
    "  \\end{align}$$\n",
    "If we let $\\mu_{j}$ be the $j^{th}$ column of the matrix $\\mu$, $\\mathbb{P}^{(j)}$ be the tranistion matrix whose $j^{th}$ column is all zeroes and $1_{n}$ be a n-dimensional vector of all ones. Then this equation can be represented in matrix form as\n",
    "$$(Id_{n} - \\mathbb{P}^{(j)}) \\mu_{j} = 1_{n}$$"
   ]
  },
  {
   "cell_type": "code",
   "execution_count": 14,
   "metadata": {
    "collapsed": true
   },
   "outputs": [],
   "source": [
    "oneVector = np.full(shape = numStates, fill_value = 1.0)"
   ]
  },
  {
   "cell_type": "markdown",
   "metadata": {},
   "source": [
    "Here we assigned the vector $1_{n}$ to the variable oneVector"
   ]
  },
  {
   "cell_type": "code",
   "execution_count": 20,
   "metadata": {
    "collapsed": true
   },
   "outputs": [],
   "source": [
    "zeroVector = np.full(shape = numStates, fill_value = 0.0)\n",
    "meanTransitionsBetweenStates = np.copy(identityMatrixNumStates)\n",
    "\n",
    "for i in range(0, numStates):\n",
    "    #Making a copy of transition matrix so the transition matrix isn't mutated#\n",
    "    systemOfEquationsToStatei = np.array(transitionMatrix, copy = True)\n",
    "    #Replcing ith row with all zeroes as per the linear equations above#\n",
    "    systemOfEquationsToStatei[i] = zeroVector\n",
    "    #Transposing matrix so the zeroes are all in the ith column. I made sure this was the \"right\" column i.e.# \n",
    "    #I didn't end up changing a row/column when compared to the system of equations#\n",
    "    systemOfEquationsToStatei = np.transpose(systemOfEquationsToStatei)\n",
    "    systemOfEquationsToStatei = (identityMatrixNumStates - systemOfEquationsToStatei)\n",
    "    #Using a numpy built in to linearly solve for \\mu_{i}#\n",
    "    meanTransitionsToStatei = np.linalg.solve(systemOfEquationsToStatei, oneVector)\n",
    "    #Adding \\mu_{i} to a matrix to house all the \\mu_{i,j} values#\n",
    "    meanTransitionsBetweenStates[i] = meanTransitionsToStatei"
   ]
  },
  {
   "cell_type": "markdown",
   "metadata": {},
   "source": [
    "Here we assigned the n-dimensional zero vector to the variable zeroVector. We make a copy of the n by n indentity matrix to the variable meanTransitionsBetweenStates. This is merely to have an n by n matrix to hold the values of $\\mu_{i,j}$. Since each $\\mu_{j}$ vector requires a different matrix $(\\mathbb{P}^{(j)})$ to solve for it we loop over j. In the loop we first make a copy of the variable transitionMatrix (our $\\mathbb{P}$) and assign it to the matrix systemOfEquationsToStatei. This is so we can have a matrix we feel free to mutate. Our next step is mutating systemOfEquationsToStatei by replacing the $i^{th}$ row with all zeroes. One can check that for our system of equations to be correct we must transpose systemOfEquationsToStatei. Now systemOfEquationsToStatei is $\\mathbb{P}^{(i)}$. Next we replace systemOfEquationsToStatei with $(Id_{n} - \\mathbb{P}^{(i)})$. Finally we solve the equation $(Id_{n} - \\mathbb{P}^{(i)}) \\mu_{i} = 1_{n}$ and assigned it to the variable meanTransitionsToStatei. Finally the values of meanTransitionsToStatei is assigned to the $i^{th}$ column of meanTransitionsBetweenStates"
   ]
  },
  {
   "cell_type": "code",
   "execution_count": 16,
   "metadata": {
    "collapsed": true
   },
   "outputs": [],
   "source": [
    "meanTransitionsBetweenStates = np.transpose(meanTransitionsBetweenStates)"
   ]
  },
  {
   "cell_type": "markdown",
   "metadata": {},
   "source": [
    "One can check that for the entries in meanTransitionBetweenStates to match up with our matrix $\\mu$ we need to transpose meanTransitionBetweenStates. Thus, meanTransitionBetweenStates is replaced with its transpose. "
   ]
  },
  {
   "cell_type": "code",
   "execution_count": 17,
   "metadata": {
    "collapsed": true
   },
   "outputs": [],
   "source": [
    "pattern = [\"0\", \"1\", \"0\", \"1\", \"0\"]"
   ]
  },
  {
   "cell_type": "markdown",
   "metadata": {},
   "source": [
    "Here we set a pattern of interest to the variable pattern. In this case we are interested in mean time it would take for the Markov chain defined above to visit the states 0 then 1 then 0 then 1 then 0."
   ]
  },
  {
   "cell_type": "markdown",
   "metadata": {},
   "source": [
    "Let $s_{1}$ be the size of of the largest cycle in the pattern and $i_1, \\dotsc, i_{s_{1}}$ be the first $s_{1}$ elements of the pattern. We wish to determine the value of $\\mathbb{E}[A(i_1, ..., i_{s_{1}})]$, the mean time until the pattern occurs given that last observed states are $i_1, ..., i_{s_{1}}$. Ross's book tells us that \n",
    "$$E[A(i_1, ..., i_{s_{1}})] = \\frac{1}{\\pi_{i_1} P_{i_1, i_2}  \\dotsm P_{i_{s_{1}} -1, i_{s_{1}}}}$$. \n",
    "The reason for this is described in Ross's book. "
   ]
  },
  {
   "cell_type": "markdown",
   "metadata": {},
   "source": [
    "Once $\\mathbb{E}[A(i_1, ..., i_{s_{1}})]$ is determined we record it and find the value of $s_{2}$ the size of the largest cycle in the first $i_1, ..., i_{s_1}$ elements of the pattern. We again wish to find the value of $\\mathbb{E}[A(i_1, ..., i_{s_{1}})]$, the mean time until the pattern of the first $i_1, ..., i_{s_1}$ elements occurs given that last observed states are $i_1, ..., i_{s_{2}}$. This process is repeated until the value of the largest cycle, $s_{n}$, is zero. Finally we record the value of $\\sum_{j=1}^{j=n-1} \\mathbb{E}[A(i_1, ..., i_{s_{j}}]$"
   ]
  },
  {
   "cell_type": "code",
   "execution_count": 18,
   "metadata": {
    "collapsed": true
   },
   "outputs": [],
   "source": [
    "def meanTimeForPatternWithCycles(pattern, longrunVec, transitionMatrix, runningSum = 0):\n",
    "    patternLength = len(pattern)\n",
    "    cycleLength = 0\n",
    "    startingStateOfPattern = int(pattern[0])\n",
    "    meanTimeToPatternGivenCycle = longrunVec[startingStateOfPattern]\n",
    "    for i in range(0, patternLength - 1):\n",
    "        currentState = int(pattern[i])\n",
    "        futureState = int(pattern[i+1])\n",
    "        meanTimeToPatternGivenCycle = (meanTimeToPatternGivenCycle)*(transitionMatrix[futureState][currentState])\n",
    "    try:\n",
    "        meanTimeToPatternGivenCycle = 1/(meanTimeToPatternGivenCycle)\n",
    "    except:\n",
    "        print(\"The pattern is impossible\")\n",
    "        return None\n",
    "        \n",
    "    runningSum = runningSum + meanTimeToPatternGivenCycle\n",
    "#boolean to make sure we check if the current position in the list is#\n",
    "#is equal to the last item in the list. The boolean becomes false if and only if#\n",
    "#there exist a cycle (the largest cycle)#\n",
    "    stillChecking = True\n",
    "\n",
    "    for i in range(0, patternLength-1):\n",
    "    #Creating mutable variable keeping track of current position in list. \n",
    "    #Starting from the second to last element and moving down will ensure that \n",
    "    #the first cycle found is the largest cycle#\n",
    "        current = patternLength - 2 - i\n",
    "    \n",
    "    #Creating a variable. This variable will keep track how many letters in \n",
    "    #the pattern are the same starting from the \"current\" variable and compared\n",
    "    #to the last element#\n",
    "        currentPatternLength = 0\n",
    "\n",
    "        while pattern[current] == pattern[-1 - (currentPatternLength)] and stillChecking:\n",
    "        #Setting up the check to see if the letter before the currrent letter \n",
    "        #is the same as the current letters to the left of the end of the word#\n",
    "            current = current - 1\n",
    "            currentPatternLength = currentPatternLength + 1\n",
    "        #Checking to see if we found the largest cycle#\n",
    "            if current == -1:\n",
    "            #Recording length of largest cycle#\n",
    "                cycleLength = currentPatternLength\n",
    "            #Breaking out of both loops#\n",
    "                i = patternLength - 1\n",
    "                stillChecking = False\n",
    "    \n",
    "    if cycleLength == 0:\n",
    "        return [pattern, runningSum]\n",
    "    else:\n",
    "        cyclePattern = pattern[:cycleLength]\n",
    "        return meanTimeForPatternWithCycles(cyclePattern, longrunVec, transitionMatrix, runningSum)\n"
   ]
  },
  {
   "cell_type": "code",
   "execution_count": 19,
   "metadata": {},
   "outputs": [
    {
     "name": "stdout",
     "output_type": "stream",
     "text": [
      "63.0\n"
     ]
    }
   ],
   "source": [
    "def meanTimeForPattern(pattern, longrunVec, transitionMatrix, meanTransitionsBetweenStates, startingState):\n",
    "    [cyclelessPattern, runningSum] = meanTimeForPatternWithCycles(pattern, longrunVec, transitionMatrix)\n",
    "    patternStart = int(cyclelessPattern[0]);\n",
    "    patternEnd = int(cyclelessPattern[-1])\n",
    "    startingState = int(startingState);\n",
    "    return meanTransitionsBetweenStates[startingState, patternStart] + runningSum - meanTransitionsBetweenStates[patternEnd, patternStart]\n",
    "\n",
    "\n",
    "print(meanTimeForPattern(pattern, longrunVec, transitionMatrix, meanTransitionsBetweenStates, startingState = \"0\"))"
   ]
  },
  {
   "cell_type": "code",
   "execution_count": null,
   "metadata": {
    "collapsed": true
   },
   "outputs": [],
   "source": []
  }
 ],
 "metadata": {
  "kernelspec": {
   "display_name": "Python 3",
   "language": "python",
   "name": "python3"
  },
  "language_info": {
   "codemirror_mode": {
    "name": "ipython",
    "version": 3
   },
   "file_extension": ".py",
   "mimetype": "text/x-python",
   "name": "python",
   "nbconvert_exporter": "python",
   "pygments_lexer": "ipython3",
   "version": "3.6.3"
  }
 },
 "nbformat": 4,
 "nbformat_minor": 2
}
